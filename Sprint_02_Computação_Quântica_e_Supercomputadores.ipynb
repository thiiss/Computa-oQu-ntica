{
  "nbformat": 4,
  "nbformat_minor": 0,
  "metadata": {
    "colab": {
      "provenance": [],
      "authorship_tag": "ABX9TyPsTsdoQy6ak358zluwzyEF",
      "include_colab_link": true
    },
    "kernelspec": {
      "name": "python3",
      "display_name": "Python 3"
    },
    "language_info": {
      "name": "python"
    }
  },
  "cells": [
    {
      "cell_type": "markdown",
      "metadata": {
        "id": "view-in-github",
        "colab_type": "text"
      },
      "source": [
        "<a href=\"https://colab.research.google.com/github/thiiss/Computacao-Quantica-e-Supercomputadores/blob/main/Sprint_02_Computa%C3%A7%C3%A3o_Qu%C3%A2ntica_e_Supercomputadores.ipynb\" target=\"_parent\"><img src=\"https://colab.research.google.com/assets/colab-badge.svg\" alt=\"Open In Colab\"/></a>"
      ]
    },
    {
      "cell_type": "code",
      "source": [
        "# Criando um circuito quântico com 2 qubits e 2 bits clássicos\n",
        "circuit = QuantumCircuit(2, 2)\n",
        "\n",
        "# Aplicando a porta Hadamard no primeiro qubit\n",
        "circuit.h(0)\n",
        "\n",
        "# Aplicando a porta CNOT para representar emaranhamento entre variáveis\n",
        "circuit.cx(0, 1)\n",
        "\n",
        "# Realizando a medição dos qubits\n",
        "circuit.measure([0, 1], [0, 1])\n",
        "\n",
        "# Desenhando o circuito para visualização\n",
        "circuit.draw('mpl')\n",
        "plt.show()\n",
        "\n",
        "# Simulando o circuito com 1000 shots para observar os resultados\n",
        "simulator = Aer.get_backend('qasm_simulator')\n",
        "compiled_circuit = transpile(circuit, simulator)\n",
        "result = simulator.run(compiled_circuit, shots=1000).result()\n",
        "counts = result.get_counts(compiled_circuit)\n",
        "\n",
        "# Exibindo os resultados\n",
        "print(\"Contagem de resultados:\", counts)\n",
        "\n",
        "# Plotando o histograma dos resultados para interpretação\n",
        "plot_histogram(counts)\n",
        "plt.show()\n",
        "\n",
        "# Interpretação dos resultados\n",
        "print(\"\\nInterpretação dos Estados:\")\n",
        "for state, count in counts.items():\n",
        "    if state == '00':\n",
        "        print(f\"Estado {state}: Embalagem em perfeita condição ({count} ocorrências)\")\n",
        "    elif state == '01':\n",
        "        print(f\"Estado {state}: Comprimido faltando ({count} ocorrências)\")\n",
        "    elif state == '10':\n",
        "        print(f\"Estado {state}: Embalagem não lacrada corretamente ({count} ocorrências)\")\n",
        "    elif state == '11':\n",
        "        print(f\"Estado {state}: Rachadura ou bolhas na embalagem ({count} ocorrências)\")"
      ],
      "metadata": {
        "id": "TfDSPEp0YNhd"
      },
      "execution_count": null,
      "outputs": []
    }
  ]
}